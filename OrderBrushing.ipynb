{
  "nbformat": 4,
  "nbformat_minor": 0,
  "metadata": {
    "colab": {
      "name": "OrderBrushing.ipynb",
      "provenance": [],
      "collapsed_sections": []
    },
    "kernelspec": {
      "name": "python3",
      "display_name": "Python 3"
    }
  },
  "cells": [
    {
      "cell_type": "code",
      "metadata": {
        "id": "gfMs6k6RXK-r"
      },
      "source": [
        "import pandas as pd\n",
        "import numpy as np\n",
        "import datetime"
      ],
      "execution_count": null,
      "outputs": []
    },
    {
      "cell_type": "code",
      "metadata": {
        "id": "h0grKFl1XlS3"
      },
      "source": [
        "df=pd.read_csv(\"/content/drive/My Drive/Order Brushing/order_brush_order.csv\")"
      ],
      "execution_count": null,
      "outputs": []
    },
    {
      "cell_type": "code",
      "metadata": {
        "id": "20N_dy38Zp_Z"
      },
      "source": [
        "df[\"event_time\"]= pd.to_datetime(df[\"event_time\"])"
      ],
      "execution_count": null,
      "outputs": []
    },
    {
      "cell_type": "code",
      "metadata": {
        "id": "L4qLYcaiXwFV",
        "outputId": "b625cc68-4e74-41f5-9ef6-65f6dc8ea786",
        "colab": {
          "base_uri": "https://localhost:8080/",
          "height": 34
        }
      },
      "source": [
        "df.shape"
      ],
      "execution_count": null,
      "outputs": [
        {
          "output_type": "execute_result",
          "data": {
            "text/plain": [
              "(222750, 4)"
            ]
          },
          "metadata": {
            "tags": []
          },
          "execution_count": 29
        }
      ]
    },
    {
      "cell_type": "code",
      "metadata": {
        "id": "ixXLcNnJX1X6",
        "outputId": "5602c8a5-9930-4834-e41b-e3139d7a00c5",
        "colab": {
          "base_uri": "https://localhost:8080/",
          "height": 195
        }
      },
      "source": [
        "df.head()"
      ],
      "execution_count": null,
      "outputs": [
        {
          "output_type": "execute_result",
          "data": {
            "text/html": [
              "<div>\n",
              "<style scoped>\n",
              "    .dataframe tbody tr th:only-of-type {\n",
              "        vertical-align: middle;\n",
              "    }\n",
              "\n",
              "    .dataframe tbody tr th {\n",
              "        vertical-align: top;\n",
              "    }\n",
              "\n",
              "    .dataframe thead th {\n",
              "        text-align: right;\n",
              "    }\n",
              "</style>\n",
              "<table border=\"1\" class=\"dataframe\">\n",
              "  <thead>\n",
              "    <tr style=\"text-align: right;\">\n",
              "      <th></th>\n",
              "      <th>orderid</th>\n",
              "      <th>shopid</th>\n",
              "      <th>userid</th>\n",
              "      <th>event_time</th>\n",
              "    </tr>\n",
              "  </thead>\n",
              "  <tbody>\n",
              "    <tr>\n",
              "      <th>0</th>\n",
              "      <td>31076582227611</td>\n",
              "      <td>93950878</td>\n",
              "      <td>30530270</td>\n",
              "      <td>2019-12-27 00:23:03</td>\n",
              "    </tr>\n",
              "    <tr>\n",
              "      <th>1</th>\n",
              "      <td>31118059853484</td>\n",
              "      <td>156423439</td>\n",
              "      <td>46057927</td>\n",
              "      <td>2019-12-27 11:54:20</td>\n",
              "    </tr>\n",
              "    <tr>\n",
              "      <th>2</th>\n",
              "      <td>31123355095755</td>\n",
              "      <td>173699291</td>\n",
              "      <td>67341739</td>\n",
              "      <td>2019-12-27 13:22:35</td>\n",
              "    </tr>\n",
              "    <tr>\n",
              "      <th>3</th>\n",
              "      <td>31122059872723</td>\n",
              "      <td>63674025</td>\n",
              "      <td>149380322</td>\n",
              "      <td>2019-12-27 13:01:00</td>\n",
              "    </tr>\n",
              "    <tr>\n",
              "      <th>4</th>\n",
              "      <td>31117075665123</td>\n",
              "      <td>127249066</td>\n",
              "      <td>149493217</td>\n",
              "      <td>2019-12-27 11:37:55</td>\n",
              "    </tr>\n",
              "  </tbody>\n",
              "</table>\n",
              "</div>"
            ],
            "text/plain": [
              "          orderid     shopid     userid          event_time\n",
              "0  31076582227611   93950878   30530270 2019-12-27 00:23:03\n",
              "1  31118059853484  156423439   46057927 2019-12-27 11:54:20\n",
              "2  31123355095755  173699291   67341739 2019-12-27 13:22:35\n",
              "3  31122059872723   63674025  149380322 2019-12-27 13:01:00\n",
              "4  31117075665123  127249066  149493217 2019-12-27 11:37:55"
            ]
          },
          "metadata": {
            "tags": []
          },
          "execution_count": 30
        }
      ]
    },
    {
      "cell_type": "code",
      "metadata": {
        "id": "P2rE2HWSkSyW",
        "outputId": "9977e8ab-5da6-4eb3-8a48-64d466acce3e",
        "colab": {
          "base_uri": "https://localhost:8080/",
          "height": 34
        }
      },
      "source": [
        "df.groupby('shopid')"
      ],
      "execution_count": null,
      "outputs": [
        {
          "output_type": "execute_result",
          "data": {
            "text/plain": [
              "<pandas.core.groupby.generic.DataFrameGroupBy object at 0x7f1071320cc0>"
            ]
          },
          "metadata": {
            "tags": []
          },
          "execution_count": 73
        }
      ]
    },
    {
      "cell_type": "code",
      "metadata": {
        "id": "QIykC-ePX3EQ",
        "outputId": "a217392f-5f42-4d8f-b420-9fe4a24cc7f5",
        "colab": {
          "base_uri": "https://localhost:8080/",
          "height": 202
        }
      },
      "source": [
        "df.info()"
      ],
      "execution_count": null,
      "outputs": [
        {
          "output_type": "stream",
          "text": [
            "<class 'pandas.core.frame.DataFrame'>\n",
            "RangeIndex: 222750 entries, 0 to 222749\n",
            "Data columns (total 4 columns):\n",
            " #   Column      Non-Null Count   Dtype         \n",
            "---  ------      --------------   -----         \n",
            " 0   orderid     222750 non-null  int64         \n",
            " 1   shopid      222750 non-null  int64         \n",
            " 2   userid      222750 non-null  int64         \n",
            " 3   event_time  222750 non-null  datetime64[ns]\n",
            "dtypes: datetime64[ns](1), int64(3)\n",
            "memory usage: 6.8 MB\n"
          ],
          "name": "stdout"
        }
      ]
    },
    {
      "cell_type": "code",
      "metadata": {
        "id": "pUnpQ8YOkRiT"
      },
      "source": [
        ""
      ],
      "execution_count": null,
      "outputs": []
    },
    {
      "cell_type": "code",
      "metadata": {
        "id": "TY7accPaX4hH",
        "outputId": "c1832f77-87f9-427a-8c41-6337d0590e8d",
        "colab": {
          "base_uri": "https://localhost:8080/",
          "height": 284
        }
      },
      "source": [
        "df.describe()"
      ],
      "execution_count": null,
      "outputs": [
        {
          "output_type": "execute_result",
          "data": {
            "text/html": [
              "<div>\n",
              "<style scoped>\n",
              "    .dataframe tbody tr th:only-of-type {\n",
              "        vertical-align: middle;\n",
              "    }\n",
              "\n",
              "    .dataframe tbody tr th {\n",
              "        vertical-align: top;\n",
              "    }\n",
              "\n",
              "    .dataframe thead th {\n",
              "        text-align: right;\n",
              "    }\n",
              "</style>\n",
              "<table border=\"1\" class=\"dataframe\">\n",
              "  <thead>\n",
              "    <tr style=\"text-align: right;\">\n",
              "      <th></th>\n",
              "      <th>orderid</th>\n",
              "      <th>shopid</th>\n",
              "      <th>userid</th>\n",
              "    </tr>\n",
              "  </thead>\n",
              "  <tbody>\n",
              "    <tr>\n",
              "      <th>count</th>\n",
              "      <td>2.227500e+05</td>\n",
              "      <td>2.227500e+05</td>\n",
              "      <td>2.227500e+05</td>\n",
              "    </tr>\n",
              "    <tr>\n",
              "      <th>mean</th>\n",
              "      <td>3.130027e+13</td>\n",
              "      <td>9.433117e+07</td>\n",
              "      <td>9.802880e+07</td>\n",
              "    </tr>\n",
              "    <tr>\n",
              "      <th>std</th>\n",
              "      <td>1.222774e+11</td>\n",
              "      <td>5.695790e+07</td>\n",
              "      <td>6.839048e+07</td>\n",
              "    </tr>\n",
              "    <tr>\n",
              "      <th>min</th>\n",
              "      <td>3.107520e+13</td>\n",
              "      <td>1.000900e+04</td>\n",
              "      <td>1.000700e+04</td>\n",
              "    </tr>\n",
              "    <tr>\n",
              "      <th>25%</th>\n",
              "      <td>3.120360e+13</td>\n",
              "      <td>4.980267e+07</td>\n",
              "      <td>3.508127e+07</td>\n",
              "    </tr>\n",
              "    <tr>\n",
              "      <th>50%</th>\n",
              "      <td>3.130561e+13</td>\n",
              "      <td>9.033636e+07</td>\n",
              "      <td>9.309625e+07</td>\n",
              "    </tr>\n",
              "    <tr>\n",
              "      <th>75%</th>\n",
              "      <td>3.140604e+13</td>\n",
              "      <td>1.475053e+08</td>\n",
              "      <td>1.590612e+08</td>\n",
              "    </tr>\n",
              "    <tr>\n",
              "      <th>max</th>\n",
              "      <td>3.150720e+13</td>\n",
              "      <td>2.154352e+08</td>\n",
              "      <td>2.155262e+08</td>\n",
              "    </tr>\n",
              "  </tbody>\n",
              "</table>\n",
              "</div>"
            ],
            "text/plain": [
              "            orderid        shopid        userid\n",
              "count  2.227500e+05  2.227500e+05  2.227500e+05\n",
              "mean   3.130027e+13  9.433117e+07  9.802880e+07\n",
              "std    1.222774e+11  5.695790e+07  6.839048e+07\n",
              "min    3.107520e+13  1.000900e+04  1.000700e+04\n",
              "25%    3.120360e+13  4.980267e+07  3.508127e+07\n",
              "50%    3.130561e+13  9.033636e+07  9.309625e+07\n",
              "75%    3.140604e+13  1.475053e+08  1.590612e+08\n",
              "max    3.150720e+13  2.154352e+08  2.155262e+08"
            ]
          },
          "metadata": {
            "tags": []
          },
          "execution_count": 32
        }
      ]
    },
    {
      "cell_type": "code",
      "metadata": {
        "id": "sTrsSPLUX78L",
        "outputId": "5a6f2372-af1e-421a-8b4f-2abd27c7cafd",
        "colab": {
          "base_uri": "https://localhost:8080/",
          "height": 34
        }
      },
      "source": [
        "df.loc['shopid'][1].minute"
      ],
      "execution_count": null,
      "outputs": [
        {
          "output_type": "execute_result",
          "data": {
            "text/plain": [
              "54"
            ]
          },
          "metadata": {
            "tags": []
          },
          "execution_count": 43
        }
      ]
    },
    {
      "cell_type": "code",
      "metadata": {
        "id": "crNGHdjsaM5k",
        "outputId": "5b0a2468-3de5-4a9b-f717-c075b6a41246",
        "colab": {
          "base_uri": "https://localhost:8080/",
          "height": 34
        }
      },
      "source": [
        "df['userid'].unique().valu"
      ],
      "execution_count": null,
      "outputs": [
        {
          "output_type": "execute_result",
          "data": {
            "text/plain": [
              "array([30530270, 46057927, 67341739, ..., 55114470, 41654255, 27306783])"
            ]
          },
          "metadata": {
            "tags": []
          },
          "execution_count": 34
        }
      ]
    },
    {
      "cell_type": "code",
      "metadata": {
        "id": "2KETgedweVPT"
      },
      "source": [
        "df=df.loc[(df['shopid']) & (df['userid'] >= 3)]"
      ],
      "execution_count": null,
      "outputs": []
    },
    {
      "cell_type": "code",
      "metadata": {
        "id": "6VD7HFdGkOMR",
        "outputId": "3809bc12-aa14-4400-e7e2-5fcc9b5c1148",
        "colab": {
          "base_uri": "https://localhost:8080/",
          "height": 218
        }
      },
      "source": [
        "df['shopid'].value_counts()"
      ],
      "execution_count": null,
      "outputs": [
        {
          "output_type": "execute_result",
          "data": {
            "text/plain": [
              "61556313     6691\n",
              "57189823      687\n",
              "107921853     684\n",
              "34910509      515\n",
              "84301799      501\n",
              "             ... \n",
              "162557357       1\n",
              "162831795       1\n",
              "44469           1\n",
              "161172937       1\n",
              "176433157       1\n",
              "Name: shopid, Length: 9311, dtype: int64"
            ]
          },
          "metadata": {
            "tags": []
          },
          "execution_count": 87
        }
      ]
    },
    {
      "cell_type": "code",
      "metadata": {
        "id": "qc25Zzkuf4SX",
        "outputId": "30e9744b-9788-40d9-f524-ea7acfd8b581",
        "colab": {
          "base_uri": "https://localhost:8080/",
          "height": 235
        }
      },
      "source": [
        "df1=df.groupby('shopid')['userid'].value_counts()[df.groupby('shopid')['userid'].value_counts() >= 3]"
      ],
      "execution_count": null,
      "outputs": [
        {
          "output_type": "execute_result",
          "data": {
            "text/plain": [
              "shopid     userid   \n",
              "10159      62775725     3\n",
              "           214988798    3\n",
              "10287      74488711     3\n",
              "           103289694    3\n",
              "           198097381    3\n",
              "                       ..\n",
              "208265257  194273448    4\n",
              "208700193  201762365    3\n",
              "209158413  147853291    3\n",
              "211245313  46875705     3\n",
              "213141071  213646699    3\n",
              "Name: userid, Length: 1127, dtype: int64"
            ]
          },
          "metadata": {
            "tags": []
          },
          "execution_count": 83
        }
      ]
    },
    {
      "cell_type": "code",
      "metadata": {
        "id": "BdM4huUGfRlZ",
        "outputId": "1a1aa243-6206-477e-eea4-87797ab57f89",
        "colab": {
          "base_uri": "https://localhost:8080/",
          "height": 402
        }
      },
      "source": [
        "df.event_time=pd.to_datetime(df.event_time)\n",
        "df4=df.groupby([df.shopid,df.userid,pd.Grouper(key='event_time',freq='H')]).size().reset_index(name='count')\n",
        "df4"
      ],
      "execution_count": null,
      "outputs": [
        {
          "output_type": "execute_result",
          "data": {
            "text/html": [
              "<div>\n",
              "<style scoped>\n",
              "    .dataframe tbody tr th:only-of-type {\n",
              "        vertical-align: middle;\n",
              "    }\n",
              "\n",
              "    .dataframe tbody tr th {\n",
              "        vertical-align: top;\n",
              "    }\n",
              "\n",
              "    .dataframe thead th {\n",
              "        text-align: right;\n",
              "    }\n",
              "</style>\n",
              "<table border=\"1\" class=\"dataframe\">\n",
              "  <thead>\n",
              "    <tr style=\"text-align: right;\">\n",
              "      <th></th>\n",
              "      <th>shopid</th>\n",
              "      <th>userid</th>\n",
              "      <th>event_time</th>\n",
              "      <th>count</th>\n",
              "    </tr>\n",
              "  </thead>\n",
              "  <tbody>\n",
              "    <tr>\n",
              "      <th>0</th>\n",
              "      <td>10009</td>\n",
              "      <td>196962305</td>\n",
              "      <td>2019-12-27 03:00:00</td>\n",
              "      <td>1</td>\n",
              "    </tr>\n",
              "    <tr>\n",
              "      <th>1</th>\n",
              "      <td>10051</td>\n",
              "      <td>2854032</td>\n",
              "      <td>2019-12-27 19:00:00</td>\n",
              "      <td>1</td>\n",
              "    </tr>\n",
              "    <tr>\n",
              "      <th>2</th>\n",
              "      <td>10051</td>\n",
              "      <td>48600461</td>\n",
              "      <td>2019-12-29 01:00:00</td>\n",
              "      <td>1</td>\n",
              "    </tr>\n",
              "    <tr>\n",
              "      <th>3</th>\n",
              "      <td>10061</td>\n",
              "      <td>62464559</td>\n",
              "      <td>2019-12-31 02:00:00</td>\n",
              "      <td>1</td>\n",
              "    </tr>\n",
              "    <tr>\n",
              "      <th>4</th>\n",
              "      <td>10061</td>\n",
              "      <td>130633421</td>\n",
              "      <td>2019-12-30 21:00:00</td>\n",
              "      <td>1</td>\n",
              "    </tr>\n",
              "    <tr>\n",
              "      <th>...</th>\n",
              "      <td>...</td>\n",
              "      <td>...</td>\n",
              "      <td>...</td>\n",
              "      <td>...</td>\n",
              "    </tr>\n",
              "    <tr>\n",
              "      <th>215872</th>\n",
              "      <td>214949521</td>\n",
              "      <td>46269178</td>\n",
              "      <td>2019-12-31 20:00:00</td>\n",
              "      <td>1</td>\n",
              "    </tr>\n",
              "    <tr>\n",
              "      <th>215873</th>\n",
              "      <td>214964814</td>\n",
              "      <td>200983383</td>\n",
              "      <td>2019-12-29 22:00:00</td>\n",
              "      <td>1</td>\n",
              "    </tr>\n",
              "    <tr>\n",
              "      <th>215874</th>\n",
              "      <td>215175775</td>\n",
              "      <td>13688804</td>\n",
              "      <td>2019-12-31 09:00:00</td>\n",
              "      <td>1</td>\n",
              "    </tr>\n",
              "    <tr>\n",
              "      <th>215875</th>\n",
              "      <td>215175775</td>\n",
              "      <td>129266028</td>\n",
              "      <td>2019-12-31 14:00:00</td>\n",
              "      <td>1</td>\n",
              "    </tr>\n",
              "    <tr>\n",
              "      <th>215876</th>\n",
              "      <td>215435223</td>\n",
              "      <td>79515106</td>\n",
              "      <td>2019-12-31 18:00:00</td>\n",
              "      <td>1</td>\n",
              "    </tr>\n",
              "  </tbody>\n",
              "</table>\n",
              "<p>215877 rows × 4 columns</p>\n",
              "</div>"
            ],
            "text/plain": [
              "           shopid     userid          event_time  count\n",
              "0           10009  196962305 2019-12-27 03:00:00      1\n",
              "1           10051    2854032 2019-12-27 19:00:00      1\n",
              "2           10051   48600461 2019-12-29 01:00:00      1\n",
              "3           10061   62464559 2019-12-31 02:00:00      1\n",
              "4           10061  130633421 2019-12-30 21:00:00      1\n",
              "...           ...        ...                 ...    ...\n",
              "215872  214949521   46269178 2019-12-31 20:00:00      1\n",
              "215873  214964814  200983383 2019-12-29 22:00:00      1\n",
              "215874  215175775   13688804 2019-12-31 09:00:00      1\n",
              "215875  215175775  129266028 2019-12-31 14:00:00      1\n",
              "215876  215435223   79515106 2019-12-31 18:00:00      1\n",
              "\n",
              "[215877 rows x 4 columns]"
            ]
          },
          "metadata": {
            "tags": []
          },
          "execution_count": 132
        }
      ]
    },
    {
      "cell_type": "code",
      "metadata": {
        "id": "C9mw6EhdzU6e",
        "outputId": "dbd78476-9f96-4e07-e91a-62b10d60306b",
        "colab": {
          "base_uri": "https://localhost:8080/",
          "height": 419
        }
      },
      "source": [
        "df5 = df4.loc[df4['count']>=3]\n",
        "df5"
      ],
      "execution_count": null,
      "outputs": [
        {
          "output_type": "execute_result",
          "data": {
            "text/html": [
              "<div>\n",
              "<style scoped>\n",
              "    .dataframe tbody tr th:only-of-type {\n",
              "        vertical-align: middle;\n",
              "    }\n",
              "\n",
              "    .dataframe tbody tr th {\n",
              "        vertical-align: top;\n",
              "    }\n",
              "\n",
              "    .dataframe thead th {\n",
              "        text-align: right;\n",
              "    }\n",
              "</style>\n",
              "<table border=\"1\" class=\"dataframe\">\n",
              "  <thead>\n",
              "    <tr style=\"text-align: right;\">\n",
              "      <th></th>\n",
              "      <th>shopid</th>\n",
              "      <th>userid</th>\n",
              "      <th>event_time</th>\n",
              "      <th>count</th>\n",
              "    </tr>\n",
              "  </thead>\n",
              "  <tbody>\n",
              "    <tr>\n",
              "      <th>432</th>\n",
              "      <td>10159</td>\n",
              "      <td>214988798</td>\n",
              "      <td>2019-12-29 20:00:00</td>\n",
              "      <td>3</td>\n",
              "    </tr>\n",
              "    <tr>\n",
              "      <th>924</th>\n",
              "      <td>10287</td>\n",
              "      <td>198097381</td>\n",
              "      <td>2019-12-30 00:00:00</td>\n",
              "      <td>3</td>\n",
              "    </tr>\n",
              "    <tr>\n",
              "      <th>930</th>\n",
              "      <td>10287</td>\n",
              "      <td>214226569</td>\n",
              "      <td>2019-12-31 01:00:00</td>\n",
              "      <td>3</td>\n",
              "    </tr>\n",
              "    <tr>\n",
              "      <th>1135</th>\n",
              "      <td>10402</td>\n",
              "      <td>77819</td>\n",
              "      <td>2019-12-28 14:00:00</td>\n",
              "      <td>3</td>\n",
              "    </tr>\n",
              "    <tr>\n",
              "      <th>1316</th>\n",
              "      <td>10536</td>\n",
              "      <td>672345</td>\n",
              "      <td>2019-12-27 11:00:00</td>\n",
              "      <td>3</td>\n",
              "    </tr>\n",
              "    <tr>\n",
              "      <th>...</th>\n",
              "      <td>...</td>\n",
              "      <td>...</td>\n",
              "      <td>...</td>\n",
              "      <td>...</td>\n",
              "    </tr>\n",
              "    <tr>\n",
              "      <th>213233</th>\n",
              "      <td>203531250</td>\n",
              "      <td>114282846</td>\n",
              "      <td>2019-12-29 17:00:00</td>\n",
              "      <td>3</td>\n",
              "    </tr>\n",
              "    <tr>\n",
              "      <th>214329</th>\n",
              "      <td>204225676</td>\n",
              "      <td>198662175</td>\n",
              "      <td>2019-12-31 00:00:00</td>\n",
              "      <td>5</td>\n",
              "    </tr>\n",
              "    <tr>\n",
              "      <th>214868</th>\n",
              "      <td>208696908</td>\n",
              "      <td>214111334</td>\n",
              "      <td>2019-12-30 17:00:00</td>\n",
              "      <td>3</td>\n",
              "    </tr>\n",
              "    <tr>\n",
              "      <th>215502</th>\n",
              "      <td>210197928</td>\n",
              "      <td>52867898</td>\n",
              "      <td>2019-12-27 07:00:00</td>\n",
              "      <td>4</td>\n",
              "    </tr>\n",
              "    <tr>\n",
              "      <th>215769</th>\n",
              "      <td>213141071</td>\n",
              "      <td>213646699</td>\n",
              "      <td>2019-12-27 01:00:00</td>\n",
              "      <td>3</td>\n",
              "    </tr>\n",
              "  </tbody>\n",
              "</table>\n",
              "<p>742 rows × 4 columns</p>\n",
              "</div>"
            ],
            "text/plain": [
              "           shopid     userid          event_time  count\n",
              "432         10159  214988798 2019-12-29 20:00:00      3\n",
              "924         10287  198097381 2019-12-30 00:00:00      3\n",
              "930         10287  214226569 2019-12-31 01:00:00      3\n",
              "1135        10402      77819 2019-12-28 14:00:00      3\n",
              "1316        10536     672345 2019-12-27 11:00:00      3\n",
              "...           ...        ...                 ...    ...\n",
              "213233  203531250  114282846 2019-12-29 17:00:00      3\n",
              "214329  204225676  198662175 2019-12-31 00:00:00      5\n",
              "214868  208696908  214111334 2019-12-30 17:00:00      3\n",
              "215502  210197928   52867898 2019-12-27 07:00:00      4\n",
              "215769  213141071  213646699 2019-12-27 01:00:00      3\n",
              "\n",
              "[742 rows x 4 columns]"
            ]
          },
          "metadata": {
            "tags": []
          },
          "execution_count": 148
        }
      ]
    },
    {
      "cell_type": "code",
      "metadata": {
        "id": "5wSV6byds86X",
        "outputId": "44276072-364f-4c90-8834-c7ce98011ff9",
        "colab": {
          "base_uri": "https://localhost:8080/",
          "height": 419
        }
      },
      "source": [
        "df5"
      ],
      "execution_count": null,
      "outputs": [
        {
          "output_type": "execute_result",
          "data": {
            "text/html": [
              "<div>\n",
              "<style scoped>\n",
              "    .dataframe tbody tr th:only-of-type {\n",
              "        vertical-align: middle;\n",
              "    }\n",
              "\n",
              "    .dataframe tbody tr th {\n",
              "        vertical-align: top;\n",
              "    }\n",
              "\n",
              "    .dataframe thead th {\n",
              "        text-align: right;\n",
              "    }\n",
              "</style>\n",
              "<table border=\"1\" class=\"dataframe\">\n",
              "  <thead>\n",
              "    <tr style=\"text-align: right;\">\n",
              "      <th></th>\n",
              "      <th>shopid</th>\n",
              "      <th>userid</th>\n",
              "    </tr>\n",
              "  </thead>\n",
              "  <tbody>\n",
              "    <tr>\n",
              "      <th>432</th>\n",
              "      <td>10159</td>\n",
              "      <td>214988798</td>\n",
              "    </tr>\n",
              "    <tr>\n",
              "      <th>924</th>\n",
              "      <td>10287</td>\n",
              "      <td>198097381</td>\n",
              "    </tr>\n",
              "    <tr>\n",
              "      <th>930</th>\n",
              "      <td>10287</td>\n",
              "      <td>214226569</td>\n",
              "    </tr>\n",
              "    <tr>\n",
              "      <th>1135</th>\n",
              "      <td>10402</td>\n",
              "      <td>77819</td>\n",
              "    </tr>\n",
              "    <tr>\n",
              "      <th>1316</th>\n",
              "      <td>10536</td>\n",
              "      <td>672345</td>\n",
              "    </tr>\n",
              "    <tr>\n",
              "      <th>...</th>\n",
              "      <td>...</td>\n",
              "      <td>...</td>\n",
              "    </tr>\n",
              "    <tr>\n",
              "      <th>213233</th>\n",
              "      <td>203531250</td>\n",
              "      <td>114282846</td>\n",
              "    </tr>\n",
              "    <tr>\n",
              "      <th>214329</th>\n",
              "      <td>204225676</td>\n",
              "      <td>198662175</td>\n",
              "    </tr>\n",
              "    <tr>\n",
              "      <th>214868</th>\n",
              "      <td>208696908</td>\n",
              "      <td>214111334</td>\n",
              "    </tr>\n",
              "    <tr>\n",
              "      <th>215502</th>\n",
              "      <td>210197928</td>\n",
              "      <td>52867898</td>\n",
              "    </tr>\n",
              "    <tr>\n",
              "      <th>215769</th>\n",
              "      <td>213141071</td>\n",
              "      <td>213646699</td>\n",
              "    </tr>\n",
              "  </tbody>\n",
              "</table>\n",
              "<p>742 rows × 2 columns</p>\n",
              "</div>"
            ],
            "text/plain": [
              "           shopid     userid\n",
              "432         10159  214988798\n",
              "924         10287  198097381\n",
              "930         10287  214226569\n",
              "1135        10402      77819\n",
              "1316        10536     672345\n",
              "...           ...        ...\n",
              "213233  203531250  114282846\n",
              "214329  204225676  198662175\n",
              "214868  208696908  214111334\n",
              "215502  210197928   52867898\n",
              "215769  213141071  213646699\n",
              "\n",
              "[742 rows x 2 columns]"
            ]
          },
          "metadata": {
            "tags": []
          },
          "execution_count": 177
        }
      ]
    },
    {
      "cell_type": "code",
      "metadata": {
        "id": "w9HZM8CZvRVs"
      },
      "source": [
        "output = pd.DataFrame({'shopid': df5.shopid, 'userid': df5.userid})\n",
        "output.to_csv('my_submission.csv', index=False)"
      ],
      "execution_count": null,
      "outputs": []
    }
  ]
}